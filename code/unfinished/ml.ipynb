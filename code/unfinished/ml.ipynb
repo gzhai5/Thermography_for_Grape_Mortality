{
 "cells": [
  {
   "cell_type": "code",
   "execution_count": 40,
   "metadata": {},
   "outputs": [
    {
     "name": "stdout",
     "output_type": "stream",
     "text": [
      "4495\n",
      "4495\n"
     ]
    }
   ],
   "source": [
    "import pandas as pd\n",
    "import numpy as np\n",
    "\n",
    "# Read in the CSV files and concatenate them into a single 1D array\n",
    "good_seed_files = [\"csv_data/goodseed1.csv\", \"csv_data/goodseed2.csv\", \"csv_data/goodseed3.csv\", \"csv_data/goodseed4.csv\", \"csv_data/goodseed5.csv\"]\n",
    "good_seed_data = np.concatenate([pd.read_csv(file).iloc[:, 0].values for file in good_seed_files])\n",
    "bad_seed_files = [\"csv_data/badseed1.csv\", \"csv_data/badseed2.csv\", \"csv_data/badseed3.csv\", \"csv_data/badseed4.csv\", \"csv_data/badseed5.csv\"]\n",
    "bad_seed_data = np.concatenate([pd.read_csv(file).iloc[:, 0].values for file in bad_seed_files])\n",
    "\n",
    "# Print the length of the concatenated array to verify that it has the correct number of elements\n",
    "print(len(good_seed_data))\n",
    "print(len(bad_seed_data))"
   ]
  },
  {
   "cell_type": "code",
   "execution_count": 41,
   "metadata": {},
   "outputs": [
    {
     "name": "stdout",
     "output_type": "stream",
     "text": [
      "Number of good seeds: 4495\n",
      "Number of bad seeds: 4495\n",
      "Total number of data points: 8990\n",
      "Accuracy: 0.5200222469410456\n",
      "The new seed is good.\n"
     ]
    }
   ],
   "source": [
    "from sklearn.tree import DecisionTreeClassifier\n",
    "from sklearn.metrics import accuracy_score\n",
    "from sklearn.model_selection import train_test_split\n",
    "\n",
    "# Prepare the data\n",
    "# Print the length of the good and bad seed arrays to verify that they contain the expected data\n",
    "print(\"Number of good seeds:\", len(good_seed_data))\n",
    "print(\"Number of bad seeds:\", len(bad_seed_data))\n",
    "\n",
    "# Combine the good and bad seed data into a single dataset and label each data point\n",
    "X = np.concatenate((good_seed_data, bad_seed_data))\n",
    "y = np.concatenate((np.ones(len(good_seed_data)), np.zeros(len(bad_seed_data))))\n",
    "\n",
    "# Print the length of the combined dataset to verify that it has the correct number of elements\n",
    "print(\"Total number of data points:\", len(X))\n",
    "\n",
    "# Split the data into training and testing sets\n",
    "X_train, X_test, y_train, y_test = train_test_split(X, y, test_size=0.2, random_state=42)\n",
    "X_train = X_train.reshape(-1, 1)\n",
    "y_train = y_train.reshape(-1, 1)\n",
    "\n",
    "# Choose a machine learning algorithm\n",
    "clf = DecisionTreeClassifier()\n",
    "\n",
    "# Train the model\n",
    "clf.fit(X_train, y_train)\n",
    "X_test = X_test.reshape(-1, 1)\n",
    "\n",
    "# Evaluate the model\n",
    "y_pred = clf.predict(X_test)\n",
    "accuracy = accuracy_score(y_test, y_pred)\n",
    "print(\"Accuracy:\", accuracy)\n",
    "\n",
    "# Deploy the model\n",
    "# new_seed_file = \"csv_data/needbegoodseed1.csv\"\n",
    "new_seed_file = \"csv_data/needbebadseed1.csv\"\n",
    "new_seed_data = pd.read_csv(new_seed_file).iloc[:, 0].values\n",
    "new_seed_data = new_seed_data.reshape(-1, 1)\n",
    "prediction = clf.predict(new_seed_data)\n",
    "if np.any(prediction == 1):\n",
    "    print(\"The new seed is good.\")\n",
    "else:\n",
    "    print(\"The new seed is bad.\")"
   ]
  }
 ],
 "metadata": {
  "kernelspec": {
   "display_name": "Python 3.10.8 64-bit",
   "language": "python",
   "name": "python3"
  },
  "language_info": {
   "codemirror_mode": {
    "name": "ipython",
    "version": 3
   },
   "file_extension": ".py",
   "mimetype": "text/x-python",
   "name": "python",
   "nbconvert_exporter": "python",
   "pygments_lexer": "ipython3",
   "version": "3.10.8"
  },
  "orig_nbformat": 4,
  "vscode": {
   "interpreter": {
    "hash": "b0fa6594d8f4cbf19f97940f81e996739fb7646882a419484c72d19e05852a7e"
   }
  }
 },
 "nbformat": 4,
 "nbformat_minor": 2
}
